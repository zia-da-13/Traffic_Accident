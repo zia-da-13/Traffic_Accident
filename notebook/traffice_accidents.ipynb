{
 "cells": [
  {
   "cell_type": "code",
   "execution_count": 1,
   "id": "f57a39bd-028e-4ab7-a37f-0d95751b37ce",
   "metadata": {},
   "outputs": [],
   "source": [
    "import pandas as pd\n",
    "import numpy as np\n",
    "import matplotlib.pyplot as plt\n",
    "import seaborn as sns\n",
    "import folium\n",
    "\n",
    "from folium.plugins import HeatMap"
   ]
  },
  {
   "cell_type": "code",
   "execution_count": 2,
   "id": "bf72c178-c710-48a4-871b-f05ea4d92aaa",
   "metadata": {},
   "outputs": [
    {
     "name": "stderr",
     "output_type": "stream",
     "text": [
      "C:\\Users\\amerk\\AppData\\Local\\Temp\\ipykernel_15712\\3083059037.py:1: DtypeWarning: Columns (2,3,4,14,15,20,24,25,26) have mixed types. Specify dtype option on import or set low_memory=False.\n",
      "  accident = pd.read_csv('../data/Traffic_Accident.csv')\n"
     ]
    }
   ],
   "source": [
    "accident = pd.read_csv('../data/Traffic_Accident.csv')"
   ]
  },
  {
   "cell_type": "code",
   "execution_count": 3,
   "id": "936e6538-d6d9-4c59-bd29-a51f689859ff",
   "metadata": {},
   "outputs": [
    {
     "name": "stdout",
     "output_type": "stream",
     "text": [
      "Requirement already satisfied: pandas in c:\\users\\amerk\\anaconda3\\lib\\site-packages (2.2.2)\n",
      "Requirement already satisfied: numpy>=1.26.0 in c:\\users\\amerk\\anaconda3\\lib\\site-packages (from pandas) (1.26.4)\n",
      "Requirement already satisfied: python-dateutil>=2.8.2 in c:\\users\\amerk\\anaconda3\\lib\\site-packages (from pandas) (2.9.0.post0)\n",
      "Requirement already satisfied: pytz>=2020.1 in c:\\users\\amerk\\anaconda3\\lib\\site-packages (from pandas) (2024.1)\n",
      "Requirement already satisfied: tzdata>=2022.7 in c:\\users\\amerk\\anaconda3\\lib\\site-packages (from pandas) (2023.3)\n",
      "Requirement already satisfied: six>=1.5 in c:\\users\\amerk\\anaconda3\\lib\\site-packages (from python-dateutil>=2.8.2->pandas) (1.16.0)\n"
     ]
    }
   ],
   "source": [
    "#!pip install pandas\n"
   ]
  },
  {
   "cell_type": "code",
   "execution_count": 4,
   "id": "bad72a32-8e23-4ea5-9872-778201616b6a",
   "metadata": {},
   "outputs": [],
   "source": [
    "# dropping the columns of x and y which we do not need \n",
    "accident.drop(columns=[\"x\", \"y\"], inplace=True)"
   ]
  },
  {
   "cell_type": "code",
   "execution_count": 5,
   "id": "bd128807-e674-4892-89d2-1aaf7f67556e",
   "metadata": {},
   "outputs": [
    {
     "data": {
      "text/html": [
       "<div>\n",
       "<style scoped>\n",
       "    .dataframe tbody tr th:only-of-type {\n",
       "        vertical-align: middle;\n",
       "    }\n",
       "\n",
       "    .dataframe tbody tr th {\n",
       "        vertical-align: top;\n",
       "    }\n",
       "\n",
       "    .dataframe thead th {\n",
       "        text-align: right;\n",
       "    }\n",
       "</style>\n",
       "<table border=\"1\" class=\"dataframe\">\n",
       "  <thead>\n",
       "    <tr style=\"text-align: right;\">\n",
       "      <th></th>\n",
       "      <th>Accident Number</th>\n",
       "      <th>Date and Time</th>\n",
       "      <th>Number of Motor Vehicles</th>\n",
       "      <th>Number of Injuries</th>\n",
       "      <th>Number of Fatalities</th>\n",
       "      <th>Property Damage</th>\n",
       "      <th>Hit and Run</th>\n",
       "      <th>Collision Type Description</th>\n",
       "      <th>Weather Description</th>\n",
       "      <th>Illumination Description</th>\n",
       "      <th>...</th>\n",
       "      <th>Long</th>\n",
       "      <th>HarmfulCodes</th>\n",
       "      <th>HarmfulDescriptions</th>\n",
       "      <th>ObjectId</th>\n",
       "      <th>Zip Code</th>\n",
       "      <th>RPA</th>\n",
       "      <th>Weather</th>\n",
       "      <th>IlluACCIDEmination</th>\n",
       "      <th>Collision Type</th>\n",
       "      <th>Reporting Officer</th>\n",
       "    </tr>\n",
       "  </thead>\n",
       "  <tbody>\n",
       "    <tr>\n",
       "      <th>0</th>\n",
       "      <td>20170018222</td>\n",
       "      <td>1/7/2017 3:10</td>\n",
       "      <td>2</td>\n",
       "      <td>1</td>\n",
       "      <td>0</td>\n",
       "      <td>N</td>\n",
       "      <td>N</td>\n",
       "      <td>ANGLE</td>\n",
       "      <td>CLEAR</td>\n",
       "      <td>DARK - LIGHTED</td>\n",
       "      <td>...</td>\n",
       "      <td>-86.75166</td>\n",
       "      <td>12</td>\n",
       "      <td>MOTOR VEHICLE IN TRANSPORT</td>\n",
       "      <td>1</td>\n",
       "      <td>37210</td>\n",
       "      <td>8101</td>\n",
       "      <td>21</td>\n",
       "      <td>3</td>\n",
       "      <td>4</td>\n",
       "      <td>240943</td>\n",
       "    </tr>\n",
       "    <tr>\n",
       "      <th>1</th>\n",
       "      <td>20170018236</td>\n",
       "      <td>1/7/2017 3:00</td>\n",
       "      <td>1</td>\n",
       "      <td>0</td>\n",
       "      <td>0</td>\n",
       "      <td>N</td>\n",
       "      <td>N</td>\n",
       "      <td>NOT COLLISION W/MOTOR VEHICLE-TRANSPORT</td>\n",
       "      <td>SNOW</td>\n",
       "      <td>DARK - LIGHTED</td>\n",
       "      <td>...</td>\n",
       "      <td>-86.74199</td>\n",
       "      <td>24</td>\n",
       "      <td>GUARDRAIL FACE</td>\n",
       "      <td>2</td>\n",
       "      <td>37115</td>\n",
       "      <td>2041</td>\n",
       "      <td>4</td>\n",
       "      <td>3</td>\n",
       "      <td>0</td>\n",
       "      <td>209189</td>\n",
       "    </tr>\n",
       "    <tr>\n",
       "      <th>2</th>\n",
       "      <td>20170018257</td>\n",
       "      <td>1/7/2017 2:35</td>\n",
       "      <td>2</td>\n",
       "      <td>0</td>\n",
       "      <td>0</td>\n",
       "      <td>N</td>\n",
       "      <td>Y</td>\n",
       "      <td>ANGLE</td>\n",
       "      <td>SNOW</td>\n",
       "      <td>DARK - LIGHTED</td>\n",
       "      <td>...</td>\n",
       "      <td>-86.71342</td>\n",
       "      <td>14;55</td>\n",
       "      <td>PARKED MOTOR VEHICLE;Motor Vehicle-In-Motion O...</td>\n",
       "      <td>3</td>\n",
       "      <td>37115</td>\n",
       "      <td>1507</td>\n",
       "      <td>4</td>\n",
       "      <td>3</td>\n",
       "      <td>4</td>\n",
       "      <td>405411</td>\n",
       "    </tr>\n",
       "    <tr>\n",
       "      <th>3</th>\n",
       "      <td>20170018294</td>\n",
       "      <td>1/7/2017 3:28</td>\n",
       "      <td>1</td>\n",
       "      <td>0</td>\n",
       "      <td>0</td>\n",
       "      <td>N</td>\n",
       "      <td>N</td>\n",
       "      <td>NOT COLLISION W/MOTOR VEHICLE-TRANSPORT</td>\n",
       "      <td>CLEAR</td>\n",
       "      <td>DARK - LIGHTED</td>\n",
       "      <td>...</td>\n",
       "      <td>-86.76087</td>\n",
       "      <td>34</td>\n",
       "      <td>DITCH</td>\n",
       "      <td>4</td>\n",
       "      <td>37210</td>\n",
       "      <td>8008</td>\n",
       "      <td>21</td>\n",
       "      <td>3</td>\n",
       "      <td>0</td>\n",
       "      <td>240971</td>\n",
       "    </tr>\n",
       "    <tr>\n",
       "      <th>4</th>\n",
       "      <td>20170018301</td>\n",
       "      <td>1/7/2017 3:40</td>\n",
       "      <td>1</td>\n",
       "      <td>1</td>\n",
       "      <td>0</td>\n",
       "      <td>N</td>\n",
       "      <td>N</td>\n",
       "      <td>NOT COLLISION W/MOTOR VEHICLE-TRANSPORT</td>\n",
       "      <td>CLOUDY</td>\n",
       "      <td>DARK - LIGHTED</td>\n",
       "      <td>...</td>\n",
       "      <td>-86.74988</td>\n",
       "      <td>36;63</td>\n",
       "      <td>CONCRETE TRAFFIC BARRIER;Ran Off Road-Right</td>\n",
       "      <td>5</td>\n",
       "      <td>37115</td>\n",
       "      <td>20044</td>\n",
       "      <td>22</td>\n",
       "      <td>3</td>\n",
       "      <td>0</td>\n",
       "      <td>909489</td>\n",
       "    </tr>\n",
       "  </tbody>\n",
       "</table>\n",
       "<p>5 rows × 25 columns</p>\n",
       "</div>"
      ],
      "text/plain": [
       "   Accident Number  Date and Time Number of Motor Vehicles Number of Injuries  \\\n",
       "0      20170018222  1/7/2017 3:10                        2                  1   \n",
       "1      20170018236  1/7/2017 3:00                        1                  0   \n",
       "2      20170018257  1/7/2017 2:35                        2                  0   \n",
       "3      20170018294  1/7/2017 3:28                        1                  0   \n",
       "4      20170018301  1/7/2017 3:40                        1                  1   \n",
       "\n",
       "  Number of Fatalities Property Damage Hit and Run  \\\n",
       "0                    0               N           N   \n",
       "1                    0               N           N   \n",
       "2                    0               N           Y   \n",
       "3                    0               N           N   \n",
       "4                    0               N           N   \n",
       "\n",
       "                Collision Type Description Weather Description  \\\n",
       "0                                    ANGLE               CLEAR   \n",
       "1  NOT COLLISION W/MOTOR VEHICLE-TRANSPORT                SNOW   \n",
       "2                                    ANGLE                SNOW   \n",
       "3  NOT COLLISION W/MOTOR VEHICLE-TRANSPORT               CLEAR   \n",
       "4  NOT COLLISION W/MOTOR VEHICLE-TRANSPORT              CLOUDY   \n",
       "\n",
       "  Illumination Description  ...       Long HarmfulCodes  \\\n",
       "0           DARK - LIGHTED  ...  -86.75166           12   \n",
       "1           DARK - LIGHTED  ...  -86.74199           24   \n",
       "2           DARK - LIGHTED  ...  -86.71342        14;55   \n",
       "3           DARK - LIGHTED  ...  -86.76087           34   \n",
       "4           DARK - LIGHTED  ...  -86.74988        36;63   \n",
       "\n",
       "                                 HarmfulDescriptions ObjectId Zip Code    RPA  \\\n",
       "0                         MOTOR VEHICLE IN TRANSPORT        1    37210   8101   \n",
       "1                                     GUARDRAIL FACE        2    37115   2041   \n",
       "2  PARKED MOTOR VEHICLE;Motor Vehicle-In-Motion O...        3    37115   1507   \n",
       "3                                              DITCH        4    37210   8008   \n",
       "4        CONCRETE TRAFFIC BARRIER;Ran Off Road-Right        5    37115  20044   \n",
       "\n",
       "  Weather IlluACCIDEmination  Collision Type  Reporting Officer  \n",
       "0      21                  3               4             240943  \n",
       "1       4                  3               0             209189  \n",
       "2       4                  3               4             405411  \n",
       "3      21                  3               0             240971  \n",
       "4      22                  3               0             909489  \n",
       "\n",
       "[5 rows x 25 columns]"
      ]
     },
     "execution_count": 5,
     "metadata": {},
     "output_type": "execute_result"
    }
   ],
   "source": [
    "accident.head(5)"
   ]
  },
  {
   "cell_type": "code",
   "execution_count": 6,
   "id": "4c4719e3-da8b-4bd3-b53c-2573bcd3af7f",
   "metadata": {},
   "outputs": [
    {
     "data": {
      "text/plain": [
       "Accident Number               0\n",
       "Date and Time                 0\n",
       "Number of Motor Vehicles      0\n",
       "Number of Injuries            0\n",
       "Number of Fatalities          0\n",
       "Property Damage               0\n",
       "Hit and Run                   0\n",
       "Collision Type Description    0\n",
       "Weather Description           0\n",
       "Illumination Description      0\n",
       "Street Address                0\n",
       "City                          0\n",
       "State                         0\n",
       "Precinct                      0\n",
       "Lat                           0\n",
       "Long                          0\n",
       "HarmfulCodes                  0\n",
       "HarmfulDescriptions           0\n",
       "ObjectId                      0\n",
       "Zip Code                      0\n",
       "RPA                           0\n",
       "Weather                       0\n",
       "IlluACCIDEmination            0\n",
       "Collision Type                0\n",
       "Reporting Officer             0\n",
       "dtype: int64"
      ]
     },
     "execution_count": 6,
     "metadata": {},
     "output_type": "execute_result"
    }
   ],
   "source": [
    "(accident.isnull().sum())"
   ]
  },
  {
   "cell_type": "code",
   "execution_count": 7,
   "id": "fffc3ced-eda8-480e-b6cd-99ed25c4073b",
   "metadata": {},
   "outputs": [
    {
     "data": {
      "text/plain": [
       "Accident Number                int64\n",
       "Date and Time                 object\n",
       "Number of Motor Vehicles      object\n",
       "Number of Injuries            object\n",
       "Number of Fatalities          object\n",
       "Property Damage               object\n",
       "Hit and Run                   object\n",
       "Collision Type Description    object\n",
       "Weather Description           object\n",
       "Illumination Description      object\n",
       "Street Address                object\n",
       "City                          object\n",
       "State                         object\n",
       "Precinct                      object\n",
       "Lat                           object\n",
       "Long                          object\n",
       "HarmfulCodes                  object\n",
       "HarmfulDescriptions           object\n",
       "ObjectId                       int64\n",
       "Zip Code                       int64\n",
       "RPA                           object\n",
       "Weather                       object\n",
       "IlluACCIDEmination            object\n",
       "Collision Type                object\n",
       "Reporting Officer             object\n",
       "dtype: object"
      ]
     },
     "execution_count": 7,
     "metadata": {},
     "output_type": "execute_result"
    }
   ],
   "source": [
    "accident.dtypes"
   ]
  },
  {
   "cell_type": "code",
   "execution_count": 8,
   "id": "eddeeaaf-b96e-40ff-b295-f9c948c0bdfd",
   "metadata": {},
   "outputs": [],
   "source": [
    "#goupped the dataset in order to find the 24 hour difference in accidents \n",
    "day_conditions = ['DAYLIGHT', 'DAWN', 'DUSK']\n",
    "night_conditions = ['DARK - LIGHTED', 'DARK - NOT LIGHTED', 'Dark-Unknown Lighting']\n",
    "accident['Day/Night'] = accident['Illumination Description'].apply(\n",
    "    lambda x: 'Day' if x in day_conditions else ('Night' if x in night_conditions else 'Not Reported')\n",
    ")\n",
    "\n",
    "\n",
    "accident_counts = accident['Day/Night'].value_counts()"
   ]
  },
  {
   "cell_type": "code",
   "execution_count": 9,
   "id": "086060ee-8f1d-4e2e-8746-b871a361cbab",
   "metadata": {},
   "outputs": [
    {
     "data": {
      "image/png": "[encoded data removed]",
      "text/plain": [
       "<Figure size 900x700 with 1 Axes>"
      ]
     },
     "metadata": {},
     "output_type": "display_data"
    }
   ],
   "source": [
    "plt.figure(figsize=(9, 7))\n",
    "plt.bar(accident_counts.index, accident_counts.values, color=['blue', 'black', 'gray'])\n",
    "plt.xlabel(\"Time of Accident\")\n",
    "plt.ylabel(\"Number of Accidents\")\n",
    "plt.title(\"Accidents Occurring in Day vs. Night\")\n",
    "plt.show()"
   ]
  },
  {
   "cell_type": "code",
   "execution_count": 10,
   "id": "733e3628-5fcd-4190-9392-bcebbccea5d8",
   "metadata": {},
   "outputs": [
    {
     "data": {
      "image/png": "[encoded data removed]",
      "text/plain": [
       "<Figure size 800x600 with 1 Axes>"
      ]
     },
     "metadata": {},
     "output_type": "display_data"
    }
   ],
   "source": [
    "\n",
    "\n",
    "\n",
    "accident['Time of Day'] = accident['Illumination Description'].apply(\n",
    "    lambda x: 'Day' if 'DAYLIGHT' in str(x).upper() else ('Night' if 'DARK' in str(x).upper() else 'Not Reported')\n",
    ")\n",
    "\n",
    "\n",
    "accident_counts = accident['Time of Day'].value_counts()\n",
    "\n",
    "\n",
    "plt.figure(figsize=(8, 6))\n",
    "bars = plt.bar(accident_counts.index, accident_counts.values, color=['skyblue', 'orange', 'gray'])\n",
    "\n",
    "\n",
    "for bar in bars:\n",
    "    plt.text(bar.get_x() + bar.get_width()/2, bar.get_height() + 5, \n",
    "             str(bar.get_height()), ha='center', fontsize=12, fontweight='bold')\n",
    "\n",
    "plt.title('Traffic Accidents: Day vs. Night vs. Not Reported', fontsize=14)\n",
    "plt.xlabel('Time of Day', fontsize=12)\n",
    "plt.ylabel('Number of Accidents', fontsize=12)\n",
    "plt.xticks(rotation=0)\n",
    "plt.grid(axis='y', linestyle='--', alpha=0.7)\n",
    "\n",
    "\n",
    "plt.show()\n"
   ]
  },
  {
   "cell_type": "code",
   "execution_count": 11,
   "id": "1a21be60-0758-4f7b-83a0-74a77909ba5d",
   "metadata": {},
   "outputs": [
    {
     "data": {
      "text/plain": [
       "Time of Day\n",
       "Day             151207\n",
       "Night            69154\n",
       "Not Reported     24925\n",
       "Name: count, dtype: int64"
      ]
     },
     "execution_count": 11,
     "metadata": {},
     "output_type": "execute_result"
    }
   ],
   "source": [
    "accident_counts"
   ]
  },
  {
   "cell_type": "code",
   "execution_count": 13,
   "id": "65557ed3-61a4-4cf9-9903-a2dd6443977d",
   "metadata": {},
   "outputs": [
    {
     "ename": "TypeError",
     "evalue": "can only concatenate str (not \"int\") to str",
     "output_type": "error",
     "traceback": [
      "\u001b[1;31m---------------------------------------------------------------------------\u001b[0m",
      "\u001b[1;31mTypeError\u001b[0m                                 Traceback (most recent call last)",
      "Cell \u001b[1;32mIn[13], line 3\u001b[0m\n\u001b[0;32m      1\u001b[0m accident[\u001b[38;5;124m\"\u001b[39m\u001b[38;5;124mNumber of Injuries\u001b[39m\u001b[38;5;124m\"\u001b[39m] \u001b[38;5;241m=\u001b[39m accident[\u001b[38;5;124m\"\u001b[39m\u001b[38;5;124mNumber of Fatalities\u001b[39m\u001b[38;5;124m\"\u001b[39m]\u001b[38;5;241m.\u001b[39mastype(\u001b[38;5;28mstr\u001b[39m)  \u001b[38;5;66;03m# Convert to string\u001b[39;00m\n\u001b[1;32m----> 3\u001b[0m df_grouped \u001b[38;5;241m=\u001b[39m accident\u001b[38;5;241m.\u001b[39mgroupby(\u001b[38;5;124m'\u001b[39m\u001b[38;5;124mZip Code\u001b[39m\u001b[38;5;124m'\u001b[39m)[[\u001b[38;5;124m'\u001b[39m\u001b[38;5;124mNumber of Injuries\u001b[39m\u001b[38;5;124m'\u001b[39m, \u001b[38;5;124m'\u001b[39m\u001b[38;5;124mNumber of Fatalities\u001b[39m\u001b[38;5;124m'\u001b[39m]]\u001b[38;5;241m.\u001b[39msum()\n\u001b[0;32m      6\u001b[0m df_sorted \u001b[38;5;241m=\u001b[39m df_grouped\u001b[38;5;241m.\u001b[39msort_values(by\u001b[38;5;241m=\u001b[39m[\u001b[38;5;124m'\u001b[39m\u001b[38;5;124mNumber of Injuries\u001b[39m\u001b[38;5;124m'\u001b[39m, \u001b[38;5;124m'\u001b[39m\u001b[38;5;124mNumber of Fatalities\u001b[39m\u001b[38;5;124m'\u001b[39m], ascending\u001b[38;5;241m=\u001b[39m\u001b[38;5;28;01mFalse\u001b[39;00m)\n\u001b[0;32m      9\u001b[0m top_5_zipcodes \u001b[38;5;241m=\u001b[39m df_sorted\u001b[38;5;241m.\u001b[39mhead(\u001b[38;5;241m5\u001b[39m)\n",
      "File \u001b[1;32m~\\anaconda3\\Lib\\site-packages\\pandas\\core\\groupby\\groupby.py:3146\u001b[0m, in \u001b[0;36mGroupBy.sum\u001b[1;34m(self, numeric_only, min_count, engine, engine_kwargs)\u001b[0m\n\u001b[0;32m   3141\u001b[0m \u001b[38;5;28;01melse\u001b[39;00m:\n\u001b[0;32m   3142\u001b[0m     \u001b[38;5;66;03m# If we are grouping on categoricals we want unobserved categories to\u001b[39;00m\n\u001b[0;32m   3143\u001b[0m     \u001b[38;5;66;03m# return zero, rather than the default of NaN which the reindexing in\u001b[39;00m\n\u001b[0;32m   3144\u001b[0m     \u001b[38;5;66;03m# _agg_general() returns. GH #31422\u001b[39;00m\n\u001b[0;32m   3145\u001b[0m     \u001b[38;5;28;01mwith\u001b[39;00m com\u001b[38;5;241m.\u001b[39mtemp_setattr(\u001b[38;5;28mself\u001b[39m, \u001b[38;5;124m\"\u001b[39m\u001b[38;5;124mobserved\u001b[39m\u001b[38;5;124m\"\u001b[39m, \u001b[38;5;28;01mTrue\u001b[39;00m):\n\u001b[1;32m-> 3146\u001b[0m         result \u001b[38;5;241m=\u001b[39m \u001b[38;5;28mself\u001b[39m\u001b[38;5;241m.\u001b[39m_agg_general(\n\u001b[0;32m   3147\u001b[0m             numeric_only\u001b[38;5;241m=\u001b[39mnumeric_only,\n\u001b[0;32m   3148\u001b[0m             min_count\u001b[38;5;241m=\u001b[39mmin_count,\n\u001b[0;32m   3149\u001b[0m             alias\u001b[38;5;241m=\u001b[39m\u001b[38;5;124m\"\u001b[39m\u001b[38;5;124msum\u001b[39m\u001b[38;5;124m\"\u001b[39m,\n\u001b[0;32m   3150\u001b[0m             npfunc\u001b[38;5;241m=\u001b[39mnp\u001b[38;5;241m.\u001b[39msum,\n\u001b[0;32m   3151\u001b[0m         )\n\u001b[0;32m   3153\u001b[0m     \u001b[38;5;28;01mreturn\u001b[39;00m \u001b[38;5;28mself\u001b[39m\u001b[38;5;241m.\u001b[39m_reindex_output(result, fill_value\u001b[38;5;241m=\u001b[39m\u001b[38;5;241m0\u001b[39m)\n",
      "File \u001b[1;32m~\\anaconda3\\Lib\\site-packages\\pandas\\core\\groupby\\groupby.py:1906\u001b[0m, in \u001b[0;36mGroupBy._agg_general\u001b[1;34m(self, numeric_only, min_count, alias, npfunc, **kwargs)\u001b[0m\n\u001b[0;32m   1896\u001b[0m \u001b[38;5;129m@final\u001b[39m\n\u001b[0;32m   1897\u001b[0m \u001b[38;5;28;01mdef\u001b[39;00m \u001b[38;5;21m_agg_general\u001b[39m(\n\u001b[0;32m   1898\u001b[0m     \u001b[38;5;28mself\u001b[39m,\n\u001b[1;32m   (...)\u001b[0m\n\u001b[0;32m   1904\u001b[0m     \u001b[38;5;241m*\u001b[39m\u001b[38;5;241m*\u001b[39mkwargs,\n\u001b[0;32m   1905\u001b[0m ):\n\u001b[1;32m-> 1906\u001b[0m     result \u001b[38;5;241m=\u001b[39m \u001b[38;5;28mself\u001b[39m\u001b[38;5;241m.\u001b[39m_cython_agg_general(\n\u001b[0;32m   1907\u001b[0m         how\u001b[38;5;241m=\u001b[39malias,\n\u001b[0;32m   1908\u001b[0m         alt\u001b[38;5;241m=\u001b[39mnpfunc,\n\u001b[0;32m   1909\u001b[0m         numeric_only\u001b[38;5;241m=\u001b[39mnumeric_only,\n\u001b[0;32m   1910\u001b[0m         min_count\u001b[38;5;241m=\u001b[39mmin_count,\n\u001b[0;32m   1911\u001b[0m         \u001b[38;5;241m*\u001b[39m\u001b[38;5;241m*\u001b[39mkwargs,\n\u001b[0;32m   1912\u001b[0m     )\n\u001b[0;32m   1913\u001b[0m     \u001b[38;5;28;01mreturn\u001b[39;00m result\u001b[38;5;241m.\u001b[39m__finalize__(\u001b[38;5;28mself\u001b[39m\u001b[38;5;241m.\u001b[39mobj, method\u001b[38;5;241m=\u001b[39m\u001b[38;5;124m\"\u001b[39m\u001b[38;5;124mgroupby\u001b[39m\u001b[38;5;124m\"\u001b[39m)\n",
      "File \u001b[1;32m~\\anaconda3\\Lib\\site-packages\\pandas\\core\\groupby\\groupby.py:1998\u001b[0m, in \u001b[0;36mGroupBy._cython_agg_general\u001b[1;34m(self, how, alt, numeric_only, min_count, **kwargs)\u001b[0m\n\u001b[0;32m   1995\u001b[0m     result \u001b[38;5;241m=\u001b[39m \u001b[38;5;28mself\u001b[39m\u001b[38;5;241m.\u001b[39m_agg_py_fallback(how, values, ndim\u001b[38;5;241m=\u001b[39mdata\u001b[38;5;241m.\u001b[39mndim, alt\u001b[38;5;241m=\u001b[39malt)\n\u001b[0;32m   1996\u001b[0m     \u001b[38;5;28;01mreturn\u001b[39;00m result\n\u001b[1;32m-> 1998\u001b[0m new_mgr \u001b[38;5;241m=\u001b[39m data\u001b[38;5;241m.\u001b[39mgrouped_reduce(array_func)\n\u001b[0;32m   1999\u001b[0m res \u001b[38;5;241m=\u001b[39m \u001b[38;5;28mself\u001b[39m\u001b[38;5;241m.\u001b[39m_wrap_agged_manager(new_mgr)\n\u001b[0;32m   2000\u001b[0m \u001b[38;5;28;01mif\u001b[39;00m how \u001b[38;5;129;01min\u001b[39;00m [\u001b[38;5;124m\"\u001b[39m\u001b[38;5;124midxmin\u001b[39m\u001b[38;5;124m\"\u001b[39m, \u001b[38;5;124m\"\u001b[39m\u001b[38;5;124midxmax\u001b[39m\u001b[38;5;124m\"\u001b[39m]:\n",
      "File \u001b[1;32m~\\anaconda3\\Lib\\site-packages\\pandas\\core\\internals\\managers.py:1469\u001b[0m, in \u001b[0;36mBlockManager.grouped_reduce\u001b[1;34m(self, func)\u001b[0m\n\u001b[0;32m   1465\u001b[0m \u001b[38;5;28;01mif\u001b[39;00m blk\u001b[38;5;241m.\u001b[39mis_object:\n\u001b[0;32m   1466\u001b[0m     \u001b[38;5;66;03m# split on object-dtype blocks bc some columns may raise\u001b[39;00m\n\u001b[0;32m   1467\u001b[0m     \u001b[38;5;66;03m#  while others do not.\u001b[39;00m\n\u001b[0;32m   1468\u001b[0m     \u001b[38;5;28;01mfor\u001b[39;00m sb \u001b[38;5;129;01min\u001b[39;00m blk\u001b[38;5;241m.\u001b[39m_split():\n\u001b[1;32m-> 1469\u001b[0m         applied \u001b[38;5;241m=\u001b[39m sb\u001b[38;5;241m.\u001b[39mapply(func)\n\u001b[0;32m   1470\u001b[0m         result_blocks \u001b[38;5;241m=\u001b[39m extend_blocks(applied, result_blocks)\n\u001b[0;32m   1471\u001b[0m \u001b[38;5;28;01melse\u001b[39;00m:\n",
      "File \u001b[1;32m~\\anaconda3\\Lib\\site-packages\\pandas\\core\\internals\\blocks.py:393\u001b[0m, in \u001b[0;36mBlock.apply\u001b[1;34m(self, func, **kwargs)\u001b[0m\n\u001b[0;32m    387\u001b[0m \u001b[38;5;129m@final\u001b[39m\n\u001b[0;32m    388\u001b[0m \u001b[38;5;28;01mdef\u001b[39;00m \u001b[38;5;21mapply\u001b[39m(\u001b[38;5;28mself\u001b[39m, func, \u001b[38;5;241m*\u001b[39m\u001b[38;5;241m*\u001b[39mkwargs) \u001b[38;5;241m-\u001b[39m\u001b[38;5;241m>\u001b[39m \u001b[38;5;28mlist\u001b[39m[Block]:\n\u001b[0;32m    389\u001b[0m \u001b[38;5;250m    \u001b[39m\u001b[38;5;124;03m\"\"\"\u001b[39;00m\n\u001b[0;32m    390\u001b[0m \u001b[38;5;124;03m    apply the function to my values; return a block if we are not\u001b[39;00m\n\u001b[0;32m    391\u001b[0m \u001b[38;5;124;03m    one\u001b[39;00m\n\u001b[0;32m    392\u001b[0m \u001b[38;5;124;03m    \"\"\"\u001b[39;00m\n\u001b[1;32m--> 393\u001b[0m     result \u001b[38;5;241m=\u001b[39m func(\u001b[38;5;28mself\u001b[39m\u001b[38;5;241m.\u001b[39mvalues, \u001b[38;5;241m*\u001b[39m\u001b[38;5;241m*\u001b[39mkwargs)\n\u001b[0;32m    395\u001b[0m     result \u001b[38;5;241m=\u001b[39m maybe_coerce_values(result)\n\u001b[0;32m    396\u001b[0m     \u001b[38;5;28;01mreturn\u001b[39;00m \u001b[38;5;28mself\u001b[39m\u001b[38;5;241m.\u001b[39m_split_op_result(result)\n",
      "File \u001b[1;32m~\\anaconda3\\Lib\\site-packages\\pandas\\core\\groupby\\groupby.py:1973\u001b[0m, in \u001b[0;36mGroupBy._cython_agg_general.<locals>.array_func\u001b[1;34m(values)\u001b[0m\n\u001b[0;32m   1971\u001b[0m \u001b[38;5;28;01mdef\u001b[39;00m \u001b[38;5;21marray_func\u001b[39m(values: ArrayLike) \u001b[38;5;241m-\u001b[39m\u001b[38;5;241m>\u001b[39m ArrayLike:\n\u001b[0;32m   1972\u001b[0m     \u001b[38;5;28;01mtry\u001b[39;00m:\n\u001b[1;32m-> 1973\u001b[0m         result \u001b[38;5;241m=\u001b[39m \u001b[38;5;28mself\u001b[39m\u001b[38;5;241m.\u001b[39m_grouper\u001b[38;5;241m.\u001b[39m_cython_operation(\n\u001b[0;32m   1974\u001b[0m             \u001b[38;5;124m\"\u001b[39m\u001b[38;5;124maggregate\u001b[39m\u001b[38;5;124m\"\u001b[39m,\n\u001b[0;32m   1975\u001b[0m             values,\n\u001b[0;32m   1976\u001b[0m             how,\n\u001b[0;32m   1977\u001b[0m             axis\u001b[38;5;241m=\u001b[39mdata\u001b[38;5;241m.\u001b[39mndim \u001b[38;5;241m-\u001b[39m \u001b[38;5;241m1\u001b[39m,\n\u001b[0;32m   1978\u001b[0m             min_count\u001b[38;5;241m=\u001b[39mmin_count,\n\u001b[0;32m   1979\u001b[0m             \u001b[38;5;241m*\u001b[39m\u001b[38;5;241m*\u001b[39mkwargs,\n\u001b[0;32m   1980\u001b[0m         )\n\u001b[0;32m   1981\u001b[0m     \u001b[38;5;28;01mexcept\u001b[39;00m \u001b[38;5;167;01mNotImplementedError\u001b[39;00m:\n\u001b[0;32m   1982\u001b[0m         \u001b[38;5;66;03m# generally if we have numeric_only=False\u001b[39;00m\n\u001b[0;32m   1983\u001b[0m         \u001b[38;5;66;03m# and non-applicable functions\u001b[39;00m\n\u001b[0;32m   1984\u001b[0m         \u001b[38;5;66;03m# try to python agg\u001b[39;00m\n\u001b[0;32m   1985\u001b[0m         \u001b[38;5;66;03m# TODO: shouldn't min_count matter?\u001b[39;00m\n\u001b[0;32m   1986\u001b[0m         \u001b[38;5;66;03m# TODO: avoid special casing SparseArray here\u001b[39;00m\n\u001b[0;32m   1987\u001b[0m         \u001b[38;5;28;01mif\u001b[39;00m how \u001b[38;5;129;01min\u001b[39;00m [\u001b[38;5;124m\"\u001b[39m\u001b[38;5;124many\u001b[39m\u001b[38;5;124m\"\u001b[39m, \u001b[38;5;124m\"\u001b[39m\u001b[38;5;124mall\u001b[39m\u001b[38;5;124m\"\u001b[39m] \u001b[38;5;129;01mand\u001b[39;00m \u001b[38;5;28misinstance\u001b[39m(values, SparseArray):\n",
      "File \u001b[1;32m~\\anaconda3\\Lib\\site-packages\\pandas\\core\\groupby\\ops.py:831\u001b[0m, in \u001b[0;36mBaseGrouper._cython_operation\u001b[1;34m(self, kind, values, how, axis, min_count, **kwargs)\u001b[0m\n\u001b[0;32m    829\u001b[0m ids, _, _ \u001b[38;5;241m=\u001b[39m \u001b[38;5;28mself\u001b[39m\u001b[38;5;241m.\u001b[39mgroup_info\n\u001b[0;32m    830\u001b[0m ngroups \u001b[38;5;241m=\u001b[39m \u001b[38;5;28mself\u001b[39m\u001b[38;5;241m.\u001b[39mngroups\n\u001b[1;32m--> 831\u001b[0m \u001b[38;5;28;01mreturn\u001b[39;00m cy_op\u001b[38;5;241m.\u001b[39mcython_operation(\n\u001b[0;32m    832\u001b[0m     values\u001b[38;5;241m=\u001b[39mvalues,\n\u001b[0;32m    833\u001b[0m     axis\u001b[38;5;241m=\u001b[39maxis,\n\u001b[0;32m    834\u001b[0m     min_count\u001b[38;5;241m=\u001b[39mmin_count,\n\u001b[0;32m    835\u001b[0m     comp_ids\u001b[38;5;241m=\u001b[39mids,\n\u001b[0;32m    836\u001b[0m     ngroups\u001b[38;5;241m=\u001b[39mngroups,\n\u001b[0;32m    837\u001b[0m     \u001b[38;5;241m*\u001b[39m\u001b[38;5;241m*\u001b[39mkwargs,\n\u001b[0;32m    838\u001b[0m )\n",
      "File \u001b[1;32m~\\anaconda3\\Lib\\site-packages\\pandas\\core\\groupby\\ops.py:550\u001b[0m, in \u001b[0;36mWrappedCythonOp.cython_operation\u001b[1;34m(self, values, axis, min_count, comp_ids, ngroups, **kwargs)\u001b[0m\n\u001b[0;32m    539\u001b[0m \u001b[38;5;28;01mif\u001b[39;00m \u001b[38;5;129;01mnot\u001b[39;00m \u001b[38;5;28misinstance\u001b[39m(values, np\u001b[38;5;241m.\u001b[39mndarray):\n\u001b[0;32m    540\u001b[0m     \u001b[38;5;66;03m# i.e. ExtensionArray\u001b[39;00m\n\u001b[0;32m    541\u001b[0m     \u001b[38;5;28;01mreturn\u001b[39;00m values\u001b[38;5;241m.\u001b[39m_groupby_op(\n\u001b[0;32m    542\u001b[0m         how\u001b[38;5;241m=\u001b[39m\u001b[38;5;28mself\u001b[39m\u001b[38;5;241m.\u001b[39mhow,\n\u001b[0;32m    543\u001b[0m         has_dropped_na\u001b[38;5;241m=\u001b[39m\u001b[38;5;28mself\u001b[39m\u001b[38;5;241m.\u001b[39mhas_dropped_na,\n\u001b[1;32m   (...)\u001b[0m\n\u001b[0;32m    547\u001b[0m         \u001b[38;5;241m*\u001b[39m\u001b[38;5;241m*\u001b[39mkwargs,\n\u001b[0;32m    548\u001b[0m     )\n\u001b[1;32m--> 550\u001b[0m \u001b[38;5;28;01mreturn\u001b[39;00m \u001b[38;5;28mself\u001b[39m\u001b[38;5;241m.\u001b[39m_cython_op_ndim_compat(\n\u001b[0;32m    551\u001b[0m     values,\n\u001b[0;32m    552\u001b[0m     min_count\u001b[38;5;241m=\u001b[39mmin_count,\n\u001b[0;32m    553\u001b[0m     ngroups\u001b[38;5;241m=\u001b[39mngroups,\n\u001b[0;32m    554\u001b[0m     comp_ids\u001b[38;5;241m=\u001b[39mcomp_ids,\n\u001b[0;32m    555\u001b[0m     mask\u001b[38;5;241m=\u001b[39m\u001b[38;5;28;01mNone\u001b[39;00m,\n\u001b[0;32m    556\u001b[0m     \u001b[38;5;241m*\u001b[39m\u001b[38;5;241m*\u001b[39mkwargs,\n\u001b[0;32m    557\u001b[0m )\n",
      "File \u001b[1;32m~\\anaconda3\\Lib\\site-packages\\pandas\\core\\groupby\\ops.py:344\u001b[0m, in \u001b[0;36mWrappedCythonOp._cython_op_ndim_compat\u001b[1;34m(self, values, min_count, ngroups, comp_ids, mask, result_mask, **kwargs)\u001b[0m\n\u001b[0;32m    341\u001b[0m     \u001b[38;5;66;03m# otherwise we have OHLC\u001b[39;00m\n\u001b[0;32m    342\u001b[0m     \u001b[38;5;28;01mreturn\u001b[39;00m res\u001b[38;5;241m.\u001b[39mT\n\u001b[1;32m--> 344\u001b[0m \u001b[38;5;28;01mreturn\u001b[39;00m \u001b[38;5;28mself\u001b[39m\u001b[38;5;241m.\u001b[39m_call_cython_op(\n\u001b[0;32m    345\u001b[0m     values,\n\u001b[0;32m    346\u001b[0m     min_count\u001b[38;5;241m=\u001b[39mmin_count,\n\u001b[0;32m    347\u001b[0m     ngroups\u001b[38;5;241m=\u001b[39mngroups,\n\u001b[0;32m    348\u001b[0m     comp_ids\u001b[38;5;241m=\u001b[39mcomp_ids,\n\u001b[0;32m    349\u001b[0m     mask\u001b[38;5;241m=\u001b[39mmask,\n\u001b[0;32m    350\u001b[0m     result_mask\u001b[38;5;241m=\u001b[39mresult_mask,\n\u001b[0;32m    351\u001b[0m     \u001b[38;5;241m*\u001b[39m\u001b[38;5;241m*\u001b[39mkwargs,\n\u001b[0;32m    352\u001b[0m )\n",
      "File \u001b[1;32m~\\anaconda3\\Lib\\site-packages\\pandas\\core\\groupby\\ops.py:418\u001b[0m, in \u001b[0;36mWrappedCythonOp._call_cython_op\u001b[1;34m(self, values, min_count, ngroups, comp_ids, mask, result_mask, **kwargs)\u001b[0m\n\u001b[0;32m    407\u001b[0m counts \u001b[38;5;241m=\u001b[39m np\u001b[38;5;241m.\u001b[39mzeros(ngroups, dtype\u001b[38;5;241m=\u001b[39mnp\u001b[38;5;241m.\u001b[39mint64)\n\u001b[0;32m    408\u001b[0m \u001b[38;5;28;01mif\u001b[39;00m \u001b[38;5;28mself\u001b[39m\u001b[38;5;241m.\u001b[39mhow \u001b[38;5;129;01min\u001b[39;00m [\n\u001b[0;32m    409\u001b[0m     \u001b[38;5;124m\"\u001b[39m\u001b[38;5;124midxmin\u001b[39m\u001b[38;5;124m\"\u001b[39m,\n\u001b[0;32m    410\u001b[0m     \u001b[38;5;124m\"\u001b[39m\u001b[38;5;124midxmax\u001b[39m\u001b[38;5;124m\"\u001b[39m,\n\u001b[1;32m   (...)\u001b[0m\n\u001b[0;32m    416\u001b[0m     \u001b[38;5;124m\"\u001b[39m\u001b[38;5;124msum\u001b[39m\u001b[38;5;124m\"\u001b[39m,\n\u001b[0;32m    417\u001b[0m ]:\n\u001b[1;32m--> 418\u001b[0m     func(\n\u001b[0;32m    419\u001b[0m         out\u001b[38;5;241m=\u001b[39mresult,\n\u001b[0;32m    420\u001b[0m         counts\u001b[38;5;241m=\u001b[39mcounts,\n\u001b[0;32m    421\u001b[0m         values\u001b[38;5;241m=\u001b[39mvalues,\n\u001b[0;32m    422\u001b[0m         labels\u001b[38;5;241m=\u001b[39mcomp_ids,\n\u001b[0;32m    423\u001b[0m         min_count\u001b[38;5;241m=\u001b[39mmin_count,\n\u001b[0;32m    424\u001b[0m         mask\u001b[38;5;241m=\u001b[39mmask,\n\u001b[0;32m    425\u001b[0m         result_mask\u001b[38;5;241m=\u001b[39mresult_mask,\n\u001b[0;32m    426\u001b[0m         is_datetimelike\u001b[38;5;241m=\u001b[39mis_datetimelike,\n\u001b[0;32m    427\u001b[0m         \u001b[38;5;241m*\u001b[39m\u001b[38;5;241m*\u001b[39mkwargs,\n\u001b[0;32m    428\u001b[0m     )\n\u001b[0;32m    429\u001b[0m \u001b[38;5;28;01melif\u001b[39;00m \u001b[38;5;28mself\u001b[39m\u001b[38;5;241m.\u001b[39mhow \u001b[38;5;129;01min\u001b[39;00m [\u001b[38;5;124m\"\u001b[39m\u001b[38;5;124msem\u001b[39m\u001b[38;5;124m\"\u001b[39m, \u001b[38;5;124m\"\u001b[39m\u001b[38;5;124mstd\u001b[39m\u001b[38;5;124m\"\u001b[39m, \u001b[38;5;124m\"\u001b[39m\u001b[38;5;124mvar\u001b[39m\u001b[38;5;124m\"\u001b[39m, \u001b[38;5;124m\"\u001b[39m\u001b[38;5;124mohlc\u001b[39m\u001b[38;5;124m\"\u001b[39m, \u001b[38;5;124m\"\u001b[39m\u001b[38;5;124mprod\u001b[39m\u001b[38;5;124m\"\u001b[39m, \u001b[38;5;124m\"\u001b[39m\u001b[38;5;124mmedian\u001b[39m\u001b[38;5;124m\"\u001b[39m]:\n\u001b[0;32m    430\u001b[0m     \u001b[38;5;28;01mif\u001b[39;00m \u001b[38;5;28mself\u001b[39m\u001b[38;5;241m.\u001b[39mhow \u001b[38;5;129;01min\u001b[39;00m [\u001b[38;5;124m\"\u001b[39m\u001b[38;5;124mstd\u001b[39m\u001b[38;5;124m\"\u001b[39m, \u001b[38;5;124m\"\u001b[39m\u001b[38;5;124msem\u001b[39m\u001b[38;5;124m\"\u001b[39m]:\n",
      "File \u001b[1;32mgroupby.pyx:725\u001b[0m, in \u001b[0;36mpandas._libs.groupby.group_sum\u001b[1;34m()\u001b[0m\n",
      "\u001b[1;31mTypeError\u001b[0m: can only concatenate str (not \"int\") to str"
     ]
    }
   ],
   "source": [
    "accident[\"Number of Injuries\"] = accident[\"Number of Fatalities\"].astype(str)  # Convert to string\n",
    "\n",
    "df_grouped = accident.groupby('Zip Code')[['Number of Injuries', 'Number of Fatalities']].sum()\n",
    "\n",
    "\n",
    "df_sorted = df_grouped.sort_values(by=['Number of Injuries', 'Number of Fatalities'], ascending=False)\n",
    "\n",
    "\n",
    "top_5_zipcodes = df_sorted.head(5)"
   ]
  },
  {
   "cell_type": "code",
   "execution_count": null,
   "id": "ccd7f7ea-9951-4851-8a49-7cd3e7a568b9",
   "metadata": {},
   "outputs": [],
   "source": [
    "top_5_zipcodes"
   ]
  },
  {
   "cell_type": "markdown",
   "id": "7dfe71f7-f349-4e2c-a079-7b596592b0a1",
   "metadata": {},
   "source": [
    "\n",
    "df_grouped = accident.groupby('Zip Code')[['Number of Injuries', 'Number of Fatalities']].sum()\n",
    "\n",
    "\n",
    "df_sorted = df_grouped.sort_values(by=['Number of Injuries', 'Number of Fatalities'], ascending=False)\n",
    "\n",
    "\n",
    "top_5_zipcodes = df_sorted.head(5)\n",
    "\n",
    "\n",
    "top_zip_codes = top_5_zipcodes.index.astype(str)\n",
    "df_top = accident[accident['Zip Code'].astype(str).isin(top_zip_codes)]\n",
    "\n",
    "zip_locations = df_top.groupby('Zip Code')[['Lat', 'Long']].median()\n",
    "map_center = [zip_locations['Lat'].mean(), zip_locations['Long'].mean()]\n",
    "accident_map = folium.Map(location=map_center, zoom_start=10)\n",
    "\n",
    "\n",
    "df_top_unique = df_top[['Lat', 'Long']].drop_duplicates()\n",
    "\n",
    "\n",
    "for _, row in df_top_unique.iterrows():\n",
    "    folium.CircleMarker(\n",
    "        location=[row['Lat'], row['Long']],\n",
    "        radius=3,\n",
    "        color=\"red\",\n",
    "        fill=True,\n",
    "        fill_color=\"red\",\n",
    "        fill_opacity=0.6\n",
    "    ).add_to(accident_map)\n",
    "   "
   ]
  },
  {
   "cell_type": "code",
   "execution_count": null,
   "id": "b503b8c6-f791-4697-9cb0-7c835565b1de",
   "metadata": {},
   "outputs": [],
   "source": [
    "#this is the map for whole nashville and serounding areas with is heavy to be loaded for injuries and fatalities.\n",
    "#accident_map"
   ]
  },
  {
   "cell_type": "code",
   "execution_count": null,
   "id": "08354df5-a156-4631-8068-e5308ec88820",
   "metadata": {},
   "outputs": [],
   "source": [
    "accident.rename(columns={'Lat': 'Latitude', 'Long': 'Longitude'}, inplace=True)\n",
    "\n",
    "df_grouped = accident.groupby('Zip Code')[['Number of Injuries', 'Number of Fatalities']].sum()\n",
    "\n",
    "df_sorted = df_grouped.sort_values(by=['Number of Injuries', 'Number of Fatalities'], ascending=False)\n",
    "\n",
    "\n",
    "top_5_zipcodes = df_sorted.head(5)\n",
    "\n",
    "\n",
    "top_zip_codes = top_5_zipcodes.index.astype(str)\n",
    "df_top = accident[accident['Zip Code'].astype(str).isin(top_zip_codes)]\n",
    "\n",
    "zip_locations = df_top.groupby('Zip Code')[['Latitude', 'Longitude']].median()\n",
    "map_center = [zip_locations['Latitude'].mean(), zip_locations['Longitude'].mean()]\n",
    "accident_map = folium.Map(location=map_center, zoom_start=10)\n",
    "\n",
    "\n",
    "df_top_sampled = df_top[['Latitude', 'Longitude', 'Number of Injuries', 'Number of Fatalities']].drop_duplicates().sample(n=1000, random_state=42)\n",
    "\n",
    "\n",
    "for _, row in df_top_sampled.iterrows():\n",
    "    if row['Number of Fatalities'] > 0:\n",
    "        folium.Marker(\n",
    "            location=[row['Latitude'], row['Longitude']],\n",
    "            icon=folium.Icon(color=\"red\", icon=\"info-sign\"),\n",
    "            popup=f\"Fatalities: {row['Number of Fatalities']}\",\n",
    "            tooltip=\"Fatality\"\n",
    "        ).add_to(accident_map)\n",
    "    elif row['Number of Injuries'] > 0:\n",
    "        folium.Marker(\n",
    "            location=[row['Latitude'], row['Longitude']],\n",
    "            icon=folium.Icon(color=\"blue\", icon=\"info-sign\"),\n",
    "            popup=f\"Injuries: {row['Number of Injuries']}\",\n",
    "            tooltip=\"Injury\"\n",
    "        ).add_to(accident_map)"
   ]
  },
  {
   "cell_type": "code",
   "execution_count": null,
   "id": "a6aa370f-7742-41b5-8fe0-cec61405a23b",
   "metadata": {},
   "outputs": [],
   "source": [
    "accident_map"
   ]
  },
  {
   "cell_type": "code",
   "execution_count": null,
   "id": "4dbc52ef-26e3-4d4b-99f7-d3fead9e5f19",
   "metadata": {},
   "outputs": [],
   "source": [
    "\n",
    "accident.rename(columns={'Lat': 'Latitude', 'Long': 'Longitude'}, inplace=True)\n",
    "\n",
    "\n",
    "accident['Date and Time'] = pd.to_datetime(accident['Date and Time']).dt.date  # Extract only the date\n",
    "\n",
    "df_grouped = accident.groupby('Zip Code')[['Number of Injuries', 'Number of Fatalities']].sum()\n",
    "\n",
    "\n",
    "df_sorted = df_grouped.sort_values(by=['Number of Injuries', 'Number of Fatalities'], ascending=False)\n",
    "\n",
    "\n",
    "top_5_zipcodes = df_sorted.head(5)\n",
    "\n",
    "\n",
    "top_zip_codes = top_5_zipcodes.index.astype(str)\n",
    "df_top = accident[accident['Zip Code'].astype(str).isin(top_zip_codes)]\n",
    "\n",
    "\n",
    "zip_locations = df_top.groupby('Zip Code')[['Latitude', 'Longitude']].median()\n",
    "map_center = [zip_locations['Latitude'].mean(), zip_locations['Longitude'].mean()]\n",
    "accident_map = folium.Map(location=map_center, zoom_start=10)\n",
    "\n",
    "\n",
    "df_top_sampled = df_top[['Latitude', 'Longitude', 'Number of Injuries', 'Number of Fatalities', 'Date and Time']].drop_duplicates().sample(n=2000, random_state=42)\n",
    "\n",
    "\n",
    "for _, row in df_top_sampled.iterrows():\n",
    "    accident_date = row['Date and Time']  # Extract accident date\n",
    "    \n",
    "    if row['Number of Fatalities'] > 0:\n",
    "        folium.Marker(\n",
    "            location=[row['Latitude'], row['Longitude']],\n",
    "            icon=folium.Icon(color=\"black\", icon=\"info-sign\"),\n",
    "            popup=f\"Date: {accident_date}<br>Fatalities: {row['Number of Fatalities']}\",\n",
    "            tooltip=\"Fatality\"\n",
    "        ).add_to(accident_map)\n",
    "    elif row['Number of Injuries'] > 0:\n",
    "        folium.Marker(\n",
    "            location=[row['Latitude'], row['Longitude']],\n",
    "            icon=folium.Icon(color=\"blue\", icon=\"info-sign\"),\n",
    "            popup=f\"Date: {accident_date}<br>Injuries: {row['Number of Injuries']}\",\n",
    "            tooltip=\"Injury\"\n",
    "        ).add_to(accident_map)\n"
   ]
  },
  {
   "cell_type": "code",
   "execution_count": null,
   "id": "e1d2ce14-713a-4212-b388-2009627d3f63",
   "metadata": {},
   "outputs": [],
   "source": [
    "accident_map"
   ]
  },
  {
   "cell_type": "markdown",
   "id": "67463f6d-6766-4508-88cd-5a3926006c63",
   "metadata": {},
   "source": [
    "#monthly report in covid and post and pre covid\n",
    "accident['Date and Time'] = pd.to_datetime(accident['Date and Time'], errors='coerce')\n",
    "accident['Year'] = accident['Date and Time'].dt.year\n",
    "accident['Month'] = accident['Date and Time'].dt.month\n",
    "\n",
    "accident['Year-Month'] = accident['Date and Time'].dt.to_period('M')\n",
    "monthly_trends = accident.groupby('Year-Month').size()\n",
    "\n",
    "\n",
    "plt.figure(figsize=(14, 8))\n",
    "sns.lineplot(x=monthly_trends.index.astype(str), y=monthly_trends.values, marker='o', linewidth=1.8, label=\"Total Accidents\")\n",
    "\n",
    "\n",
    "plt.axvspan(\"2020-01\", \"2022-12\", color='red', alpha=0.2, label=\"COVID-19 Period\")\n",
    "\n",
    "# Customize aesthetics\n",
    "plt.xlabel(\"Year-Month\", fontsize=12)\n",
    "plt.ylabel(\"Number of Accidents\", fontsize=12)\n",
    "plt.title(\"Monthly Traffic Accident Trends: Pre-COVID vs. COVID vs. Post-COVID\", fontsize=14, fontweight='bold')\n",
    "plt.xticks(rotation=78, fontsize=9)\n",
    "plt.yticks(fontsize=10)\n",
    "plt.legend(fontsize=10)\n",
    "plt.grid(axis='y', linestyle='--', alpha=0.7)\n",
    "\n",
    "plt.show()"
   ]
  },
  {
   "cell_type": "code",
   "execution_count": null,
   "id": "08e9ddaa-1325-45fc-8672-5a33d37ae6b2",
   "metadata": {},
   "outputs": [],
   "source": [
    "\n",
    "accident['Date and Time'] = pd.to_datetime(accident['Date and Time'], errors='coerce')\n",
    "\n",
    "\n",
    "accident['Year'] = accident['Date and Time'].dt.year\n",
    "\n",
    "accident_trends = accident.groupby('Year').size()"
   ]
  },
  {
   "cell_type": "code",
   "execution_count": null,
   "id": "7b89da2b-37f0-4536-a0eb-fc42913682da",
   "metadata": {},
   "outputs": [],
   "source": [
    "#yearly traffic accident in covid and pre covid and post covid \n",
    "\n",
    "\n",
    "plt.figure(figsize=(12, 6))\n",
    "sns.lineplot(x=accident_trends.index, y=accident_trends.values, marker='o', linewidth=2.5, label=\"Total Accidents\")\n",
    "\n",
    "\n",
    "plt.axvspan(2020, 2022, color='red', alpha=0.2, label='COVID-19 Period')\n",
    "\n",
    "\n",
    "plt.xlabel(\"Year\", fontsize=12)\n",
    "plt.ylabel(\"Number of Accidents\", fontsize=12)\n",
    "plt.title(\"Yearly Traffic Accident Trends: Pre-COVID vs. COVID vs. Post-COVID\", fontsize=14, fontweight='bold')\n",
    "plt.xticks(rotation=45, fontsize=10)\n",
    "plt.yticks(fontsize=10)\n",
    "plt.legend(fontsize=10)\n",
    "plt.grid(axis='y', linestyle='--', alpha=0.7)\n",
    "\n",
    "plt.show()\n"
   ]
  },
  {
   "cell_type": "code",
   "execution_count": null,
   "id": "1cbe46c4-754f-45a3-9532-b587eac1ddd2",
   "metadata": {},
   "outputs": [],
   "source": [
    "weather_accident_trends = accident['Weather Description'].value_counts().reset_index()\n",
    "weather_accident_trends.columns = ['Weather Condition', 'Accident Count']"
   ]
  },
  {
   "cell_type": "code",
   "execution_count": null,
   "id": "1ac1e7b3-53ad-4581-a3a6-5af0673168ca",
   "metadata": {},
   "outputs": [],
   "source": [
    "\n",
    "\n",
    "\n",
    "\n",
    "plt.figure(figsize=(12, 6))\n",
    "bars = plt.bar(weather_accident_trends['Weather Condition'][:10], weather_accident_trends['Accident Count'][:10])\n",
    "\n",
    "\n",
    "for bar in bars:\n",
    "    yval = bar.get_height()\n",
    "    plt.text(bar.get_x() + bar.get_width()/2, yval, int(yval), ha='center', va='bottom', fontsize=10)\n",
    "\n",
    "plt.xlabel(\"Weather Condition\")\n",
    "plt.ylabel(\"Number of Accidents\")\n",
    "plt.title(\"Traffic Accidents by Weather Condition (Top 10)\")\n",
    "plt.xticks(rotation=45)\n",
    "plt.show()"
   ]
  },
  {
   "cell_type": "code",
   "execution_count": null,
   "id": "5e5c1505-bd9f-4502-9baf-6ce78c0d39fb",
   "metadata": {},
   "outputs": [],
   "source": [
    "#hit and run that caused injury or fatality and property damage \n",
    "hit_and_run_df = accident[accident['Hit and Run'] == 'Y']\n",
    "\n",
    "\n",
    "hit_and_run_df['Year'] = pd.to_datetime(hit_and_run_df['Date and Time'], errors='coerce').dt.year\n",
    "\n",
    "\n",
    "hit_and_run_trends = hit_and_run_df.groupby('Year').agg({\n",
    "    'Number of Injuries': 'sum',\n",
    "    'Number of Fatalities': 'sum',\n",
    "    'Property Damage': 'count' \n",
    "}).reset_index()\n",
    "\n",
    "plt.figure(figsize=(12, 6))\n",
    "\n",
    "plt.style.use('ggplot')  \n",
    "\n",
    "\n",
    "colors = ['blue', 'red', 'green']\n",
    "markers = ['o', 's', '^']\n",
    "labels = ['Injuries', 'Fatalities', 'Property Damage Cases']\n",
    "columns = ['Number of Injuries', 'Number of Fatalities', 'Property Damage']\n",
    "\n",
    "for i, col in enumerate(columns):\n",
    "    plt.plot(hit_and_run_trends['Year'], hit_and_run_trends[col], label=labels[i], marker=markers[i], color=colors[i], linestyle='-', linewidth=2, markersize=8, alpha=0.9)\n",
    "\n",
    "\n",
    "    for j in range(len(hit_and_run_trends)):\n",
    "        plt.text(hit_and_run_trends['Year'][j], hit_and_run_trends[col][j] + 1, \n",
    "                 str(hit_and_run_trends[col][j]), ha='center', fontsize=10, color=colors[i], fontweight='bold')\n",
    "\n",
    "\n",
    "plt.gca().set_facecolor('#f7f7f7')  \n",
    "\n",
    "plt.xlabel(\"Year\", fontsize=12, fontweight='bold')\n",
    "plt.ylabel(\"Count\", fontsize=12, fontweight='bold')\n",
    "plt.title(\"Hit and Run Incidents Trend (Injuries, Fatalities, Property Damage)\", fontsize=14, fontweight='bold')\n",
    "plt.xticks(fontsize=10)\n",
    "plt.yticks(fontsize=10)\n",
    "plt.legend(fontsize=10, loc='upper left', frameon=True, shadow=True)\n",
    "plt.grid(True, linestyle='--', alpha=0.6)\n"
   ]
  },
  {
   "cell_type": "code",
   "execution_count": null,
   "id": "38321491-d752-4c77-8fa0-3b65ac57ac9f",
   "metadata": {},
   "outputs": [],
   "source": [
    "accidents_by_collision = accident['Collision Type Description'].value_counts()"
   ]
  },
  {
   "cell_type": "code",
   "execution_count": null,
   "id": "c5b4d680-de61-48de-b46c-f96a4db50b39",
   "metadata": {},
   "outputs": [],
   "source": [
    "\n",
    "\n",
    "\n",
    "plt.figure(figsize=(12, 6))\n",
    "plt.bar(accidents_by_collision.index, accidents_by_collision.values, color='mediumseagreen', alpha=0.7)\n",
    "plt.xlabel('Collision Type')\n",
    "plt.ylabel('Number of Accidents')\n",
    "plt.title('Traffic Accidents by Collision Type')\n",
    "plt.xticks(rotation=45, ha='right')\n",
    "plt.grid(axis='y', linestyle='--', alpha=0.7)\n",
    "\n",
    "\n",
    "plt.show()"
   ]
  },
  {
   "cell_type": "code",
   "execution_count": null,
   "id": "b6ae42d6-b150-4cba-8095-45f9b042c503",
   "metadata": {},
   "outputs": [],
   "source": [
    "injuries_count = accident['Number of Injuries'].sum()\n",
    "fatalities_count = accident['Number of Fatalities'].sum()\n"
   ]
  },
  {
   "cell_type": "code",
   "execution_count": null,
   "id": "1ac3c22d-5639-4606-b158-69223f28ba79",
   "metadata": {},
   "outputs": [],
   "source": [
    "\n",
    "\n",
    "plt.figure(figsize=(8, 8))\n",
    "plt.pie(\n",
    "    [injuries_count, fatalities_count], \n",
    "    labels=['Injuries', 'Fatalities'], \n",
    "    autopct='%1.1f%%', \n",
    "    colors=['orange', 'red'], \n",
    "    startangle=140, \n",
    "    wedgeprops={'edgecolor': 'black'}\n",
    ")\n",
    "plt.title('Severity Analysis of Traffic Accidents')\n",
    "\n",
    "plt.show()"
   ]
  },
  {
   "cell_type": "code",
   "execution_count": null,
   "id": "72cde583-62c2-4e54-abad-9fe973c0f9b5",
   "metadata": {},
   "outputs": [],
   "source": [
    "\n",
    "#showing here the top 10 cities that more accidents are happening \n",
    "\n",
    "top_cities = accident['City'].value_counts().head(10)\n",
    "\n",
    "\n",
    "plt.figure(figsize=(10, 6))\n",
    "bars = plt.barh(top_cities.index, top_cities.values, color=plt.cm.Paired.colors[:10])\n",
    "\n",
    "\n",
    "for bar in bars:\n",
    "    plt.text(bar.get_width() + 5, bar.get_y() + bar.get_height()/2, \n",
    "             str(int(bar.get_width())), va='center', fontsize=12, fontweight='bold')\n",
    "\n",
    "plt.title('Top 10 Cities with the Most Traffic Accidents', fontsize=14)\n",
    "plt.xlabel('Number of Accidents', fontsize=12)\n",
    "plt.ylabel('City', fontsize=12)\n",
    "plt.gca().invert_yaxis()  # Invert y-axis for better readability\n",
    "plt.grid(axis='x', linestyle='--', alpha=0.7)\n",
    "\n",
    "plt.show()\n"
   ]
  },
  {
   "cell_type": "code",
   "execution_count": null,
   "id": "5a82072b-fae7-47ea-adcc-6f7ec46b2570",
   "metadata": {},
   "outputs": [],
   "source": [
    "hit_and_run_counts = accident['Hit and Run'].value_counts()"
   ]
  },
  {
   "cell_type": "code",
   "execution_count": null,
   "id": "3d182bb5-400d-45f1-ad4e-320a49efb4a9",
   "metadata": {},
   "outputs": [],
   "source": [
    "\n",
    "\n",
    "\n",
    "plt.figure(figsize=(8, 6))\n",
    "plt.bar(hit_and_run_counts.index, hit_and_run_counts.values, color=['blue', 'red'], alpha=0.7)\n",
    "plt.xlabel('Hit and Run')\n",
    "plt.ylabel('Number of Accidents')\n",
    "plt.title('Hit-and-Run vs. Non Hit-and-Run Accidents')\n",
    "plt.xticks(ticks=[0, 1], labels=['Non Hit-and-Run', 'Hit-and-Run'])\n",
    "plt.grid(axis='y', linestyle='--', alpha=0.7)\n",
    "\n",
    "\n",
    "plt.show()"
   ]
  },
  {
   "cell_type": "code",
   "execution_count": null,
   "id": "6cb4a9ef-a29e-472d-b5b5-aa040b217b83",
   "metadata": {},
   "outputs": [],
   "source": [
    "if 'Zip Code' in accident.columns:\n",
    "    \n",
    "    accidents_by_zip = accident.groupby('Zip Code').size().reset_index(name='Accident Count')\n",
    "\n",
    "    \n",
    "    top_15_zipcodes = accidents_by_zip.nlargest(15, 'Accident Count')\n"
   ]
  },
  {
   "cell_type": "code",
   "execution_count": null,
   "id": "d1c9a99b-d447-4696-b11b-46c80c1564a0",
   "metadata": {},
   "outputs": [],
   "source": [
    "\n",
    "\n",
    "    \n",
    "    plt.figure(figsize=(12, 6))\n",
    "    plt.bar(top_15_zipcodes['Zip Code'].astype(str), top_15_zipcodes['Accident Count'], color='teal', alpha=0.7)\n",
    "    plt.xlabel('Zip Code')\n",
    "    plt.ylabel('Number of Accidents')\n",
    "    plt.title('Top 15 Zip Codes with the Most Traffic Accidents')\n",
    "    plt.xticks(rotation=45, ha='right')\n",
    "    plt.grid(axis='y', linestyle='--', alpha=0.7)\n",
    "\n",
    "\n",
    "    plt.show()"
   ]
  },
  {
   "cell_type": "markdown",
   "id": "53d5159a-f1ee-4138-a2b6-e0f25e737954",
   "metadata": {},
   "source": [
    "# making the injuries and fatalities per day and month \n",
    "\n",
    "accident[\"Date and Time\"] = pd.to_datetime(accident[\"Date and Time\"], errors='coerce')\n",
    "\n",
    "\n",
    "accident[\"Date\"] = accident[\"Date and Time\"].dt.date\n",
    "accident[\"Month-Year\"] = accident[\"Date and Time\"].dt.to_period(\"M\")\n",
    "\n",
    "\n",
    "daily_stats = accident.groupby(\"Date\")[[\"Number of Fatalities\", \"Number of Injuries\"]].sum().reset_index()\n",
    "daily_stats[\"Fatalities per Day\"] = daily_stats[\"Number of Fatalities\"]\n",
    "daily_stats[\"Injuries per Day\"] = daily_stats[\"Number of Injuries\"]\n",
    "\n",
    "\n",
    "monthly_stats = accident.groupby(\"Month-Year\")[[\"Number of Fatalities\", \"Number of Injuries\"]].sum().reset_index()\n",
    "monthly_stats[\"Fatalities per Month\"] = monthly_stats[\"Number of Fatalities\"]\n",
    "monthly_stats[\"Injuries per Month\"] = monthly_stats[\"Number of Injuries\"]\n",
    "\n"
   ]
  },
  {
   "cell_type": "code",
   "execution_count": null,
   "id": "ab85c9d5-3051-4406-9c3c-3879717dc3b8",
   "metadata": {},
   "outputs": [],
   "source": [
    "\n",
    "accident[\"Date and Time\"] = pd.to_datetime(accident[\"Date and Time\"], errors='coerce')\n",
    "\n",
    "accident[\"Date\"] = accident[\"Date and Time\"].dt.date\n",
    "accident[\"Month-Year\"] = accident[\"Date and Time\"].dt.to_period(\"M\")\n",
    "\n",
    "\n",
    "daily_stats = accident.groupby(\"Date\")[[\"Number of Fatalities\", \"Number of Injuries\"]].sum().reset_index()\n",
    "daily_stats[\"Fatalities per Day\"] = daily_stats[\"Number of Fatalities\"]\n",
    "daily_stats[\"Injuries per Day\"] = daily_stats[\"Number of Injuries\"]\n",
    "\n",
    "monthly_stats = accident.groupby(\"Month-Year\")[[\"Number of Fatalities\", \"Number of Injuries\"]].sum().reset_index()\n",
    "monthly_stats[\"Fatalities per Month\"] = monthly_stats[\"Number of Fatalities\"]\n",
    "monthly_stats[\"Injuries per Month\"] = monthly_stats[\"Number of Injuries\"]\n",
    "\n",
    "\n",
    "accidents = accident.merge(daily_stats, on=\"Date\", how=\"left\")\n",
    "accidents = accident.merge(monthly_stats, on=\"Month-Year\", how=\"left\")"
   ]
  },
  {
   "cell_type": "code",
   "execution_count": null,
   "id": "8d84c878-a301-4d0a-bd78-86604e8d1237",
   "metadata": {},
   "outputs": [],
   "source": [
    "accidents.to_csv(\"Updated_Traffic_Accident.csv\", index=False)"
   ]
  },
  {
   "cell_type": "code",
   "execution_count": null,
   "id": "625f5f64-f34e-4215-9ae9-f1daefc1f2c0",
   "metadata": {},
   "outputs": [],
   "source": [
    "tn_toxic_df = pd.read_csv(\"../data/tn_toxic.csv\")"
   ]
  },
  {
   "cell_type": "code",
   "execution_count": null,
   "id": "9acb321c-cf6c-47b5-8793-8a6933fce369",
   "metadata": {},
   "outputs": [],
   "source": [
    "accident[\"Zip Code\"] = accident[\"Zip Code\"].astype(str).str.split('.').str[0]\n",
    "tn_toxic_df[\"Zip_code\"] = tn_toxic_df[\"Zip_code\"].astype(str)"
   ]
  },
  {
   "cell_type": "code",
   "execution_count": null,
   "id": "0af60574-c37f-4ec6-b4a8-4e538990f00c",
   "metadata": {},
   "outputs": [],
   "source": [
    "merged_df = pd.merge(\n",
    "    accident, \n",
    "    tn_toxic_df, \n",
    "    left_on=\"Zip Code\", \n",
    "    right_on=\"Zip_code\", \n",
    "    how=\"inner\"\n",
    ")"
   ]
  },
  {
   "cell_type": "code",
   "execution_count": null,
   "id": "02a5ef75-631f-451f-9998-d974a7fb736d",
   "metadata": {},
   "outputs": [],
   "source": [
    "merged_df.head(1)"
   ]
  },
  {
   "cell_type": "code",
   "execution_count": null,
   "id": "dd90177c-105c-48ca-93c9-bbc2b989397c",
   "metadata": {},
   "outputs": [],
   "source": [
    "county_summary = merged_df.groupby(\"county_name\").agg({\n",
    "    \"Number of Injuries\": \"sum\",\n",
    "    \"Number of Fatalities\": \"sum\",\n",
    "    \"Accident Number\": \"count\",  \n",
    "    \"Hit and Run\": lambda x: (x == \"Y\").sum()\n",
    "}).rename(columns={\"Accident Number\": \"Total Accidents\"})"
   ]
  },
  {
   "cell_type": "code",
   "execution_count": null,
   "id": "0f280eab-f537-42b1-abe2-dcd9600058cd",
   "metadata": {},
   "outputs": [],
   "source": [
    "county_summary[[\"Number of Injuries\", \"Number of Fatalities\"]].plot(\n",
    "    kind=\"bar\", figsize=(12, 6), title=\"Traffic Accidents by County\"\n",
    ")\n",
    "\n",
    "plt.xlabel(\"County Name\")\n",
    "plt.ylabel(\"Total Count\")\n",
    "plt.xticks(rotation=90)\n",
    "plt.show()"
   ]
  },
  {
   "cell_type": "code",
   "execution_count": null,
   "id": "056121da-35e1-42ee-91a0-dcc1ce0a8cfd",
   "metadata": {},
   "outputs": [],
   "source": []
  }
 ],
 "metadata": {
  "kernelspec": {
   "display_name": "Python 3 (ipykernel)",
   "language": "python",
   "name": "python3"
  },
  "language_info": {
   "codemirror_mode": {
    "name": "ipython",
    "version": 3
   },
   "file_extension": ".py",
   "mimetype": "text/x-python",
   "name": "python",
   "nbconvert_exporter": "python",
   "pygments_lexer": "ipython3",
   "version": "3.12.7"
  }
 },
 "nbformat": 4,
 "nbformat_minor": 5
}
